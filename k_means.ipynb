{
 "cells": [
  {
   "cell_type": "code",
   "execution_count": 1,
   "metadata": {},
   "outputs": [],
   "source": [
    "import numpy as np\n",
    "import math\n",
    "import random"
   ]
  },
  {
   "cell_type": "code",
   "execution_count": 2,
   "metadata": {},
   "outputs": [],
   "source": [
    "class k_means:\n",
    "    def __init__(self, k):\n",
    "        self.k = k\n",
    "        self.centroids = {}\n",
    "        self.tol = 0.001\n",
    "        \n",
    "    def fit(self, data):\n",
    "        \n",
    "        length = len(data)\n",
    "        \n",
    "        indices = []\n",
    "        \n",
    "        for i in range(self.k):\n",
    "            index = random.randint(0, length-1)\n",
    "            while index in indices:\n",
    "                index = random.randint(0, length-1)\n",
    "            indices.append(index)\n",
    "            self.centroids[i] = data[index]\n",
    "            \n",
    "        self.classify = {}\n",
    "        \n",
    "        for i in range(300):\n",
    "            self.classify = {}\n",
    "            \n",
    "            for i in range(self.k):\n",
    "                self.classify[i] = []\n",
    "                \n",
    "            for point in data:\n",
    "                distances = [self.get_distance(point, self.centroids[i]) for i in range(len(self.centroids))]\n",
    "                c = distances.index(min(distances))\n",
    "                self.classify[c].append(point)\n",
    "            \n",
    "            flag = True\n",
    "            old_centroids = self.centroids\n",
    "    \n",
    "            for c in self.classify.keys():\n",
    "                self.centroids[c] = np.average(self.classify[c], axis=0)\n",
    "                \n",
    "            for i in range(self.k):\n",
    "                if np.sum((self.centroids[i]-old_centroids[i])/old_centroids[i]*100.0) > self.tol:\n",
    "                    flag = False\n",
    "                    \n",
    "                \n",
    "            if flag:\n",
    "                break\n",
    "        \n",
    "        return {'labels':self.classify, 'centroids':self.centroids}\n",
    "        \n",
    "                \n",
    "    def get_distance(self, a,b):\n",
    "        return math.sqrt((b[1]-a[1])**2 + (b[0]-a[0])**2)\n",
    "            "
   ]
  },
  {
   "cell_type": "code",
   "execution_count": 3,
   "metadata": {},
   "outputs": [
    {
     "data": {
      "text/plain": [
       "{'labels': {0: [[0, 0], [0, 0], [0.5, 0.5]],\n",
       "  1: [[1, 2], [2, 3], [1, 2], [2, 3], [10, 4], [15, 6], [9, 2], [12, 21]],\n",
       "  2: [[2, 34], [30, 40], [42, 63], [41, 63], [25, 25], [23, 32]]},\n",
       " 'centroids': {0: array([0.16666667, 0.16666667]),\n",
       "  1: array([6.5  , 5.375]),\n",
       "  2: array([27.16666667, 42.83333333])}}"
      ]
     },
     "execution_count": 3,
     "metadata": {},
     "output_type": "execute_result"
    }
   ],
   "source": [
    "data = [[0,0],[1,2],[2,3],[0,0],[1,2],[2,3],[10,4],[15,6],[2,34],[30,40],[9,2],[42,63],[41,63],[25,25],[12,21],[23,32], [0.5,0.5]]\n",
    "\n",
    "km = k_means(3)\n",
    "\n",
    "km.fit(data)"
   ]
  }
 ],
 "metadata": {
  "kernelspec": {
   "display_name": "Python 3",
   "language": "python",
   "name": "python3"
  },
  "language_info": {
   "codemirror_mode": {
    "name": "ipython",
    "version": 3
   },
   "file_extension": ".py",
   "mimetype": "text/x-python",
   "name": "python",
   "nbconvert_exporter": "python",
   "pygments_lexer": "ipython3",
   "version": "3.7.3"
  }
 },
 "nbformat": 4,
 "nbformat_minor": 2
}
